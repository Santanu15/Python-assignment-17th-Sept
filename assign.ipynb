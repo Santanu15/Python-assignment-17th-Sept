{
 "cells": [
  {
   "cell_type": "code",
   "execution_count": null,
   "id": "82abbe17-fe93-4793-8563-0ee12929f544",
   "metadata": {},
   "outputs": [],
   "source": [
    "#Write a Python program to print numbers from 1 to 10 using a for loop."
   ]
  },
  {
   "cell_type": "code",
   "execution_count": 5,
   "id": "c32c76bf-8ae0-4be9-9651-494a67e2f9b2",
   "metadata": {},
   "outputs": [
    {
     "name": "stdout",
     "output_type": "stream",
     "text": [
      "1\n",
      "2\n",
      "3\n",
      "4\n",
      "5\n",
      "6\n",
      "7\n",
      "8\n",
      "9\n",
      "10\n"
     ]
    }
   ],
   "source": [
    "for i in range(1,11):\n",
    "    print(i)"
   ]
  },
  {
   "cell_type": "code",
   "execution_count": 6,
   "id": "0165a376-486d-4eaa-8c92-af8752d5348b",
   "metadata": {},
   "outputs": [],
   "source": [
    "#Write a Python program to calculate the sum of all numbers from 1 to 100 using a for loop."
   ]
  },
  {
   "cell_type": "code",
   "execution_count": 10,
   "id": "db52f3ee-dce9-41fd-bb68-da2bc0b0cd48",
   "metadata": {},
   "outputs": [
    {
     "name": "stdout",
     "output_type": "stream",
     "text": [
      "the sum is: 5050\n"
     ]
    }
   ],
   "source": [
    "total=0\n",
    "\n",
    "for i in range(1,101):\n",
    "    total=total+i\n",
    "print(\"the sum is:\",total)"
   ]
  },
  {
   "cell_type": "code",
   "execution_count": null,
   "id": "ece4cbcd-d2fd-4dea-99a3-7e909bb304bb",
   "metadata": {},
   "outputs": [],
   "source": [
    "#Write a Python program to find the product of all elements in a list using a for loop."
   ]
  },
  {
   "cell_type": "code",
   "execution_count": 12,
   "id": "e985432e-aa39-4e74-9ce9-a7530f284eca",
   "metadata": {},
   "outputs": [
    {
     "name": "stdout",
     "output_type": "stream",
     "text": [
      "product is: 720\n"
     ]
    }
   ],
   "source": [
    "number=[2,3,4,5,6]\n",
    "\n",
    "product=1\n",
    "\n",
    "for num in number:\n",
    "    product=product*num\n",
    "    \n",
    "print('product is:',product)"
   ]
  },
  {
   "cell_type": "code",
   "execution_count": 14,
   "id": "24b1df35-15dd-4b60-8df8-95d162e27bb7",
   "metadata": {},
   "outputs": [],
   "source": [
    "#Create a Python program that prints all even numbers from 1 to 20 using a for loop."
   ]
  },
  {
   "cell_type": "code",
   "execution_count": 22,
   "id": "2aeba284-343d-4ab9-b50f-9fa51944c519",
   "metadata": {},
   "outputs": [
    {
     "name": "stdout",
     "output_type": "stream",
     "text": [
      "2\n",
      "4\n",
      "6\n",
      "8\n",
      "10\n",
      "12\n",
      "14\n",
      "16\n",
      "18\n",
      "20\n"
     ]
    }
   ],
   "source": [
    "for i in range(2,21,2):\n",
    "    \n",
    "    print(i)"
   ]
  },
  {
   "cell_type": "code",
   "execution_count": 23,
   "id": "505eb7a5-88a5-4268-a33f-c4d4ee71d275",
   "metadata": {},
   "outputs": [],
   "source": [
    "#Write a Python program to find the largest number in a list using a for loop."
   ]
  },
  {
   "cell_type": "code",
   "execution_count": 31,
   "id": "079f50bb-32be-4721-8bf3-7184fa4b54cf",
   "metadata": {},
   "outputs": [
    {
     "name": "stdout",
     "output_type": "stream",
     "text": [
      "largest number is: 88\n"
     ]
    }
   ],
   "source": [
    "num_list=[11,23,45,67,88,32,51,70]\n",
    "\n",
    "large=num_list[0]\n",
    "\n",
    "for i in num_list:\n",
    "    if i>large:\n",
    "        large=i\n",
    "\n",
    "print('largest number is:',large)"
   ]
  },
  {
   "cell_type": "code",
   "execution_count": null,
   "id": "fedcfcfd-31e0-47e6-b7f9-03c5270b990c",
   "metadata": {},
   "outputs": [],
   "source": []
  },
  {
   "cell_type": "code",
   "execution_count": 33,
   "id": "69fd08be-01db-4428-9881-be655d0f5707",
   "metadata": {},
   "outputs": [],
   "source": [
    "#Write a Python program to check if a number is positive, negative, or zero using an if-else statement."
   ]
  },
  {
   "cell_type": "code",
   "execution_count": 37,
   "id": "ae75eff4-bea0-4b95-8a87-0b3f981106dd",
   "metadata": {},
   "outputs": [
    {
     "name": "stdin",
     "output_type": "stream",
     "text": [
      "enter a number: -80\n"
     ]
    },
    {
     "name": "stdout",
     "output_type": "stream",
     "text": [
      "-80 is a negative number\n"
     ]
    }
   ],
   "source": [
    "n=int(input(\"enter a number:\"))\n",
    "\n",
    "if n>0:\n",
    "    print(n,'is a positive number')\n",
    "    \n",
    "elif n<0:\n",
    "    print(n,'is a negative number')\n",
    "    \n",
    "else:\n",
    "    print(n,'is zero')\n",
    "    "
   ]
  },
  {
   "cell_type": "code",
   "execution_count": 38,
   "id": "b9f6ba48-5b02-4b90-aefb-98dd8eeb400f",
   "metadata": {},
   "outputs": [],
   "source": [
    "#Create a Python program that checks if a given number is even or odd using an if-else statement."
   ]
  },
  {
   "cell_type": "code",
   "execution_count": 39,
   "id": "b0ccd069-253e-4ff2-9162-1f543446b1d3",
   "metadata": {},
   "outputs": [
    {
     "name": "stdin",
     "output_type": "stream",
     "text": [
      "enter a number: 55\n"
     ]
    },
    {
     "name": "stdout",
     "output_type": "stream",
     "text": [
      "55 is a odd number\n"
     ]
    }
   ],
   "source": [
    "num=int(input(\"enter a number:\"))\n",
    "\n",
    "if num%2==0:\n",
    "    print(num,'is a even number')\n",
    "    \n",
    "else:\n",
    "    print(num,'is a odd number')"
   ]
  },
  {
   "cell_type": "code",
   "execution_count": 1,
   "id": "f92d61de-0cbc-4a20-8c18-9fa077ecdc82",
   "metadata": {},
   "outputs": [],
   "source": [
    "#Write a Python program to determine the largest of three numbers using if-else."
   ]
  },
  {
   "cell_type": "code",
   "execution_count": 2,
   "id": "7a67aeba-f135-4349-a10b-f0b10ec939f9",
   "metadata": {},
   "outputs": [
    {
     "name": "stdin",
     "output_type": "stream",
     "text": [
      "enter 1st number: 8\n",
      "enter 2nd number: 9\n",
      "enter 3rd number: 7\n"
     ]
    },
    {
     "name": "stdout",
     "output_type": "stream",
     "text": [
      "9 is the largest\n"
     ]
    }
   ],
   "source": [
    "n1=int(input(\"enter 1st number:\"))\n",
    "n2=int(input(\"enter 2nd number:\"))\n",
    "n3=int(input(\"enter 3rd number:\"))\n",
    "\n",
    "if n1>n2 and n1>n3:\n",
    "    print(n1,'is the largest')\n",
    "    \n",
    "elif n2>n1 and n2>n3:\n",
    "    print(n2,'is the largest')\n",
    "    \n",
    "else:\n",
    "    print(n3,'is the largest')\n",
    "        "
   ]
  },
  {
   "cell_type": "code",
   "execution_count": null,
   "id": "f6dec058-e7f9-42b2-b87d-041efc8f4341",
   "metadata": {},
   "outputs": [],
   "source": [
    "#Write a Python program to determine if a user is eligible to vote based on their age using if-else.\n"
   ]
  },
  {
   "cell_type": "code",
   "execution_count": 8,
   "id": "34dc0390-7b52-4951-8922-b7021a6c4318",
   "metadata": {},
   "outputs": [
    {
     "name": "stdin",
     "output_type": "stream",
     "text": [
      "enter your age: 22\n"
     ]
    },
    {
     "name": "stdout",
     "output_type": "stream",
     "text": [
      "you are eligible to vote\n"
     ]
    }
   ],
   "source": [
    "age=int(input(\"enter your age:\"))\n",
    "\n",
    "if age>=18:\n",
    "    print(\"you are eligible to vote\")\n",
    "    \n",
    "    \n",
    "else:\n",
    "    print('you are not eligible to vote')\n",
    "    \n",
    "    \n"
   ]
  },
  {
   "cell_type": "code",
   "execution_count": 10,
   "id": "3ac5620b-920f-475c-8664-619bca4fda3e",
   "metadata": {},
   "outputs": [],
   "source": [
    "#Create a Python program that determines the grade of a student based on their score using if-else."
   ]
  },
  {
   "cell_type": "code",
   "execution_count": 12,
   "id": "660a20df-ec9b-4f52-91bb-df37cb3c4e5b",
   "metadata": {},
   "outputs": [
    {
     "name": "stdin",
     "output_type": "stream",
     "text": [
      "enter your score: 89\n"
     ]
    },
    {
     "name": "stdout",
     "output_type": "stream",
     "text": [
      "Your score is: 89.0 &  you have secured: Grade \"B\" \n"
     ]
    }
   ],
   "source": [
    "score=float(input(\"enter your score:\"))\n",
    "\n",
    "if score>=90:\n",
    "    print('Your score is:',score,'&  you have secured: Grade \"A\" ')\n",
    "elif score>=80:\n",
    "    print('Your score is:',score,'&  you have secured: Grade \"B\" ')\n",
    "elif score>=70:\n",
    "    print('Your score is:',score,'&  you have secured: Grade \"C\" ')\n",
    "elif score>=60:\n",
    "    print('Your score is:',score,'&  you have secured: Grade \"D\" ')\n",
    "elif score>=50:\n",
    "    print('Your score is:',score,'&  you have secured: Grade \"E\" ')\n",
    "else:\n",
    "    print('Your score is:',score,'&  you have secured: Grade \"F\" ')\n",
    "    \n",
    "    "
   ]
  },
  {
   "cell_type": "code",
   "execution_count": null,
   "id": "a65a24ea-bce3-473b-b389-6c04b3d98d26",
   "metadata": {},
   "outputs": [],
   "source": []
  },
  {
   "cell_type": "code",
   "execution_count": 2,
   "id": "80056bbd-6104-4cfa-8ab8-1edabd7bfb8e",
   "metadata": {},
   "outputs": [],
   "source": [
    "#Write a Python program that uses the `map()` function to square each element of a list of numbers."
   ]
  },
  {
   "cell_type": "code",
   "execution_count": 4,
   "id": "cc9827aa-fc19-476e-be5f-d61b042a167c",
   "metadata": {},
   "outputs": [
    {
     "name": "stdout",
     "output_type": "stream",
     "text": [
      "[1, 4, 9, 16, 25]\n"
     ]
    }
   ],
   "source": [
    "def sqr_num(x):\n",
    "    return x*x\n",
    "\n",
    "num=[1,2,3,4,5]\n",
    "\n",
    "square=list(map(sqr_num,num))\n",
    "\n",
    "print(square)"
   ]
  },
  {
   "cell_type": "code",
   "execution_count": 26,
   "id": "e8617fbe-8a0f-4522-9cbf-d05be72bbcd8",
   "metadata": {},
   "outputs": [],
   "source": [
    "#Create a Python program that uses `reduce()` to find the maximum element in a list of numbers."
   ]
  },
  {
   "cell_type": "code",
   "execution_count": 27,
   "id": "4fbe4f75-b5f5-4147-948b-f54eb7ad2096",
   "metadata": {},
   "outputs": [
    {
     "name": "stdout",
     "output_type": "stream",
     "text": [
      "maximum element: 9\n"
     ]
    }
   ],
   "source": [
    "num=[2,4,3,6,7,9,8,5]\n",
    "\n",
    "def func_max(x,y):\n",
    "    if x>y:\n",
    "        return x\n",
    "    else:\n",
    "        return y\n",
    "from functools import reduce\n",
    "\n",
    "max_num= reduce (func_max,num)\n",
    "\n",
    "print('maximum element:',max_num)"
   ]
  },
  {
   "cell_type": "code",
   "execution_count": 28,
   "id": "379bf9f6-fef2-44c8-b2c0-36f9c7f31bda",
   "metadata": {},
   "outputs": [],
   "source": [
    "#Write a Python program that uses the `filter()` function to select even numbers from a list of integers."
   ]
  },
  {
   "cell_type": "code",
   "execution_count": 30,
   "id": "02bb0d1a-040e-440f-9721-f79a65cdaa5a",
   "metadata": {},
   "outputs": [
    {
     "name": "stdout",
     "output_type": "stream",
     "text": [
      "even numbers are: [2, 4, 6, 8]\n"
     ]
    }
   ],
   "source": [
    "num=[1,2,3,4,5,6,7,8]\n",
    "\n",
    "even=list(filter(lambda x: x%2==0,num))\n",
    "          \n",
    "print(\"even numbers are:\",even)"
   ]
  },
  {
   "cell_type": "code",
   "execution_count": 31,
   "id": "74409ea8-ba20-4989-8953-c2e193ea5068",
   "metadata": {},
   "outputs": [],
   "source": [
    "#Write a Python program to calculate the factorial of a number using recursion."
   ]
  },
  {
   "cell_type": "code",
   "execution_count": 36,
   "id": "db43d201-4bd2-42a2-a009-fa47861d3b11",
   "metadata": {},
   "outputs": [],
   "source": [
    "def fact(n):\n",
    "    if n==0 or n==1:\n",
    "        return 1\n",
    "    else:\n",
    "        return n* fact(n-1)\n",
    "    "
   ]
  },
  {
   "cell_type": "code",
   "execution_count": 37,
   "id": "18672267-0b48-4f05-b61a-592f8b0a0a2e",
   "metadata": {},
   "outputs": [
    {
     "data": {
      "text/plain": [
       "120"
      ]
     },
     "execution_count": 37,
     "metadata": {},
     "output_type": "execute_result"
    }
   ],
   "source": [
    "fact(5)"
   ]
  },
  {
   "cell_type": "code",
   "execution_count": 38,
   "id": "384e6590-31f7-4815-85f1-2cd45df4dcf7",
   "metadata": {},
   "outputs": [],
   "source": [
    "#Write a Python program that defines a function to calculate the sum of two numbers and then calls the function."
   ]
  },
  {
   "cell_type": "code",
   "execution_count": 41,
   "id": "55332398-adab-4207-8d92-e6b1bee17404",
   "metadata": {},
   "outputs": [],
   "source": [
    "def num_sum(a,b):\n",
    "    return a+b\n"
   ]
  },
  {
   "cell_type": "code",
   "execution_count": 42,
   "id": "314e345d-c3c9-4ebf-b460-0f6b1d79fc93",
   "metadata": {},
   "outputs": [
    {
     "data": {
      "text/plain": [
       "11"
      ]
     },
     "execution_count": 42,
     "metadata": {},
     "output_type": "execute_result"
    }
   ],
   "source": [
    "num_sum(5,6)"
   ]
  },
  {
   "cell_type": "code",
   "execution_count": 43,
   "id": "f4251d31-68a8-40d7-9077-4da6a907ad52",
   "metadata": {},
   "outputs": [],
   "source": [
    "#Write a Python program that defines a function with default argument values."
   ]
  },
  {
   "cell_type": "code",
   "execution_count": 44,
   "id": "6a735be2-8195-4214-a8b5-d361ca598fdb",
   "metadata": {},
   "outputs": [],
   "source": [
    "def func(name=\"python\",message='coding'):\n",
    "    print(name,message)"
   ]
  },
  {
   "cell_type": "code",
   "execution_count": 45,
   "id": "8a209484-913e-4121-9432-085d9989073c",
   "metadata": {},
   "outputs": [
    {
     "name": "stdout",
     "output_type": "stream",
     "text": [
      "python coding\n"
     ]
    }
   ],
   "source": [
    "func()"
   ]
  },
  {
   "cell_type": "code",
   "execution_count": 57,
   "id": "d37bbbdb-8e1a-4869-a912-83a10b45a9aa",
   "metadata": {},
   "outputs": [],
   "source": [
    "#Write a Python program that uses lambda functions to sort a list of tuples based on the second element.\n"
   ]
  },
  {
   "cell_type": "code",
   "execution_count": 58,
   "id": "6d9421b7-9e65-418b-a7c0-9417cbf019f2",
   "metadata": {},
   "outputs": [
    {
     "name": "stdout",
     "output_type": "stream",
     "text": [
      "[(1, 'apple'), (2, 'banana'), (3, 'cherry'), (4, 'mango')]\n"
     ]
    }
   ],
   "source": [
    "list1=[(1,'apple'),(3,'cherry'),(4,'mango'),(2,'banana')]\n",
    "\n",
    "sort=sorted(list1,key=lambda x :x[1])\n",
    "\n",
    "print(sort)"
   ]
  },
  {
   "cell_type": "code",
   "execution_count": null,
   "id": "b2778cee-2e69-4ad9-9074-a8331e3cff99",
   "metadata": {},
   "outputs": [],
   "source": []
  },
  {
   "cell_type": "code",
   "execution_count": null,
   "id": "c3e5fdce-6467-404a-92d0-1eacd9a6e6f2",
   "metadata": {},
   "outputs": [],
   "source": []
  },
  {
   "cell_type": "code",
   "execution_count": null,
   "id": "fdbba561-43f5-4160-b47b-30363737b3c9",
   "metadata": {},
   "outputs": [],
   "source": []
  }
 ],
 "metadata": {
  "kernelspec": {
   "display_name": "Python 3 (ipykernel)",
   "language": "python",
   "name": "python3"
  },
  "language_info": {
   "codemirror_mode": {
    "name": "ipython",
    "version": 3
   },
   "file_extension": ".py",
   "mimetype": "text/x-python",
   "name": "python",
   "nbconvert_exporter": "python",
   "pygments_lexer": "ipython3",
   "version": "3.10.8"
  }
 },
 "nbformat": 4,
 "nbformat_minor": 5
}
